{
 "cells": [
  {
   "cell_type": "markdown",
   "metadata": {
    "id": "O6v1dFceytFl"
   },
   "source": [
    "# Build a RNN model on Google Colab"
   ]
  },
  {
   "cell_type": "code",
   "execution_count": null,
   "metadata": {
    "colab": {
     "base_uri": "https://localhost:8080/",
     "height": 221
    },
    "id": "IPVZJwyVTePC",
    "outputId": "559c5303-d827-45c2-efc2-17d6d3f97e3f"
   },
   "outputs": [
    {
     "name": "stdout",
     "output_type": "stream",
     "text": [
      "Mounted at /content/drive/\n"
     ]
    },
    {
     "data": {
      "text/html": [
       "<div>\n",
       "<style scoped>\n",
       "    .dataframe tbody tr th:only-of-type {\n",
       "        vertical-align: middle;\n",
       "    }\n",
       "\n",
       "    .dataframe tbody tr th {\n",
       "        vertical-align: top;\n",
       "    }\n",
       "\n",
       "    .dataframe thead th {\n",
       "        text-align: right;\n",
       "    }\n",
       "</style>\n",
       "<table border=\"1\" class=\"dataframe\">\n",
       "  <thead>\n",
       "    <tr style=\"text-align: right;\">\n",
       "      <th></th>\n",
       "      <th>target</th>\n",
       "      <th>cleaned_text</th>\n",
       "      <th>polarity</th>\n",
       "    </tr>\n",
       "  </thead>\n",
       "  <tbody>\n",
       "    <tr>\n",
       "      <th>0</th>\n",
       "      <td>0</td>\n",
       "      <td>upset update facebook texting might cry result...</td>\n",
       "      <td>0.000</td>\n",
       "    </tr>\n",
       "    <tr>\n",
       "      <th>1</th>\n",
       "      <td>0</td>\n",
       "      <td>behaving mad see</td>\n",
       "      <td>-0.625</td>\n",
       "    </tr>\n",
       "    <tr>\n",
       "      <th>2</th>\n",
       "      <td>0</td>\n",
       "      <td>need hug</td>\n",
       "      <td>0.000</td>\n",
       "    </tr>\n",
       "    <tr>\n",
       "      <th>3</th>\n",
       "      <td>0</td>\n",
       "      <td>nope</td>\n",
       "      <td>0.000</td>\n",
       "    </tr>\n",
       "    <tr>\n",
       "      <th>4</th>\n",
       "      <td>0</td>\n",
       "      <td>que muera</td>\n",
       "      <td>0.000</td>\n",
       "    </tr>\n",
       "  </tbody>\n",
       "</table>\n",
       "</div>"
      ],
      "text/plain": [
       "   target                                       cleaned_text  polarity\n",
       "0       0  upset update facebook texting might cry result...     0.000\n",
       "1       0                                   behaving mad see    -0.625\n",
       "2       0                                           need hug     0.000\n",
       "3       0                                               nope     0.000\n",
       "4       0                                          que muera     0.000"
      ]
     },
     "execution_count": 2,
     "metadata": {
      "tags": []
     },
     "output_type": "execute_result"
    }
   ],
   "source": [
    "# Read the data set from google drive\n",
    "import pandas as pd\n",
    "from google.colab import drive\n",
    "drive.mount('/content/drive/', force_remount=True)\n",
    "cleaned_df=pd.read_csv('/content/drive/MyDrive/colabdata/aftertexblobIQR.csv', header=0)\n",
    "cleaned_df.head()"
   ]
  },
  {
   "cell_type": "code",
   "execution_count": null,
   "metadata": {
    "id": "C-Y_gn9W8mv8"
   },
   "outputs": [],
   "source": [
    "import numpy as np \n",
    "import pandas as pd\n",
    "import matplotlib.pyplot as plt\n",
    "\n",
    "from tensorflow.keras.preprocessing.text import Tokenizer\n",
    "from tensorflow.keras.preprocessing import sequence\n",
    "from keras.preprocessing.sequence import pad_sequences\n",
    "\n",
    "pd.set_option('max_colwidth',150)"
   ]
  },
  {
   "cell_type": "code",
   "execution_count": null,
   "metadata": {
    "colab": {
     "base_uri": "https://localhost:8080/",
     "height": 142
    },
    "id": "KYKWihFM81AA",
    "outputId": "374d511a-d12c-4a96-8e5d-e5e99ab92e9a"
   },
   "outputs": [
    {
     "data": {
      "text/html": [
       "<div>\n",
       "<style scoped>\n",
       "    .dataframe tbody tr th:only-of-type {\n",
       "        vertical-align: middle;\n",
       "    }\n",
       "\n",
       "    .dataframe tbody tr th {\n",
       "        vertical-align: top;\n",
       "    }\n",
       "\n",
       "    .dataframe thead th {\n",
       "        text-align: right;\n",
       "    }\n",
       "</style>\n",
       "<table border=\"1\" class=\"dataframe\">\n",
       "  <thead>\n",
       "    <tr style=\"text-align: right;\">\n",
       "      <th></th>\n",
       "      <th>cleaned_text</th>\n",
       "      <th>polarity</th>\n",
       "    </tr>\n",
       "    <tr>\n",
       "      <th>target</th>\n",
       "      <th></th>\n",
       "      <th></th>\n",
       "    </tr>\n",
       "  </thead>\n",
       "  <tbody>\n",
       "    <tr>\n",
       "      <th>0</th>\n",
       "      <td>604516</td>\n",
       "      <td>604516</td>\n",
       "    </tr>\n",
       "    <tr>\n",
       "      <th>1</th>\n",
       "      <td>443066</td>\n",
       "      <td>443066</td>\n",
       "    </tr>\n",
       "  </tbody>\n",
       "</table>\n",
       "</div>"
      ],
      "text/plain": [
       "        cleaned_text  polarity\n",
       "target                        \n",
       "0             604516    604516\n",
       "1             443066    443066"
      ]
     },
     "execution_count": 4,
     "metadata": {
      "tags": []
     },
     "output_type": "execute_result"
    }
   ],
   "source": [
    "# Confirm the labels\n",
    "cleaned_df.groupby('target').count()"
   ]
  },
  {
   "cell_type": "code",
   "execution_count": null,
   "metadata": {
    "id": "8PoAtCxqDkwl"
   },
   "outputs": [],
   "source": [
    "from sklearn.model_selection import train_test_split\n",
    "# Split data into train and test set = 80:20\n",
    "X_train, X_test, y_train, y_test = train_test_split(cleaned_df['cleaned_text'],\n",
    "                                                    cleaned_df['target'], test_size=0.2)"
   ]
  },
  {
   "cell_type": "code",
   "execution_count": null,
   "metadata": {
    "id": "k0yagDJTDotE"
   },
   "outputs": [],
   "source": [
    "# Train the tokenizer and use that tokenizer to convert the sentences to sequences of numbers\n",
    "tokenizer = Tokenizer()\n",
    "tokenizer.fit_on_texts(X_train)\n",
    "X_train_seq = tokenizer.texts_to_sequences(X_train)\n",
    "X_test_seq = tokenizer.texts_to_sequences(X_test)"
   ]
  },
  {
   "cell_type": "code",
   "execution_count": null,
   "metadata": {
    "colab": {
     "base_uri": "https://localhost:8080/"
    },
    "id": "wM42OVeiDr9V",
    "outputId": "e5fe2b66-7030-4b1f-8e7f-2d7ec65b5642"
   },
   "outputs": [
    {
     "name": "stdout",
     "output_type": "stream",
     "text": [
      "Vocabulary size: 171532\n",
      "\n",
      "Example:\n",
      "\n",
      "Sentence:\n",
      "going away party\n",
      "\n",
      "After tokenizing :\n",
      "[11, 138, 209]\n",
      "The maximum length of an individual seq: [111]\n"
     ]
    }
   ],
   "source": [
    "vocab_size = len(tokenizer.word_index)+1\n",
    "\n",
    "print(f'Vocabulary size: {vocab_size}')\n",
    "print('\\nExample:\\n')\n",
    "print(f'Sentence:\\n{X_train.iloc[6]}')\n",
    "print(f'\\nAfter tokenizing :\\n{X_train_seq[6]}')\n",
    "print(f'The maximum length of an individual seq: {max([len(i)] for i in X_train_seq)}')"
   ]
  },
  {
   "cell_type": "code",
   "execution_count": null,
   "metadata": {
    "colab": {
     "base_uri": "https://localhost:8080/"
    },
    "id": "w7THF8BODstd",
    "outputId": "e01a6936-633b-4c7a-c334-a7abdcb32303"
   },
   "outputs": [
    {
     "name": "stdout",
     "output_type": "stream",
     "text": [
      "\n",
      "After padding :\n",
      "[  0   0   0   0   0   0   0   0   0   0   0   0   0   0   0   0   0   0\n",
      "   0   0   0   0   0   0   0   0   0   0   0   0   0   0   0   0   0   0\n",
      "   0   0   0   0   0   0   0   0   0   0   0   0   0   0   0   0   0   0\n",
      "   0   0   0   0   0   0   0   0   0   0   0   0   0   0   0   0   0   0\n",
      "   0   0   0   0   0   0   0   0   0   0   0   0   0   0   0   0   0   0\n",
      "   0   0   0   0   0   0   0   0   0   0   0   0   0   0   0   0   0   0\n",
      "  11 138 209]\n"
     ]
    }
   ],
   "source": [
    "# Pad the sequences so each sequence is the same length, equal the the longest one\n",
    "X_train_seq_padded = pad_sequences(X_train_seq, 111)\n",
    "X_test_seq_padded = pad_sequences(X_test_seq, 111)\n",
    "\n",
    "print(f'\\nAfter padding :\\n{X_train_seq_padded[6]}')"
   ]
  },
  {
   "cell_type": "code",
   "execution_count": null,
   "metadata": {
    "id": "Nrz1Xuq-Fyy6"
   },
   "outputs": [],
   "source": [
    "# Import the tools needed from keras and define functions to calculate recall and precision\n",
    "import keras.backend as K\n",
    "from keras.layers import Dense, Embedding, LSTM\n",
    "from keras.models import Sequential\n",
    "\n",
    "def recall_m(y_true, y_pred):\n",
    "        true_positives = K.sum(K.round(K.clip(y_true * y_pred, 0, 1)))\n",
    "        possible_positives = K.sum(K.round(K.clip(y_true, 0, 1)))\n",
    "        recall = true_positives / (possible_positives + K.epsilon())\n",
    "        return recall\n",
    "\n",
    "def precision_m(y_true, y_pred):\n",
    "        true_positives = K.sum(K.round(K.clip(y_true * y_pred, 0, 1)))\n",
    "        predicted_positives = K.sum(K.round(K.clip(y_pred, 0, 1)))\n",
    "        precision = true_positives / (predicted_positives + K.epsilon())\n",
    "        return precision"
   ]
  },
  {
   "cell_type": "code",
   "execution_count": null,
   "metadata": {
    "colab": {
     "base_uri": "https://localhost:8080/"
    },
    "id": "nJQZJ2-cGHhs",
    "outputId": "1debed03-5e78-4bac-d2c0-1818c8a64b31"
   },
   "outputs": [
    {
     "name": "stdout",
     "output_type": "stream",
     "text": [
      "Model: \"sequential\"\n",
      "_________________________________________________________________\n",
      "Layer (type)                 Output Shape              Param #   \n",
      "=================================================================\n",
      "embedding (Embedding)        (None, None, 32)          5489024   \n",
      "_________________________________________________________________\n",
      "lstm (LSTM)                  (None, 32)                8320      \n",
      "_________________________________________________________________\n",
      "dense (Dense)                (None, 32)                1056      \n",
      "_________________________________________________________________\n",
      "dense_1 (Dense)              (None, 1)                 33        \n",
      "=================================================================\n",
      "Total params: 5,498,433\n",
      "Trainable params: 5,498,433\n",
      "Non-trainable params: 0\n",
      "_________________________________________________________________\n"
     ]
    }
   ],
   "source": [
    "# Construct a simple RNN model\n",
    "model = Sequential()\n",
    "\n",
    "model.add(Embedding(len(tokenizer.index_word)+1, 32))\n",
    "model.add(LSTM(32, dropout=0.2, recurrent_dropout=0.2))\n",
    "model.add(Dense(32, activation='relu'))\n",
    "model.add(Dense(1, activation='sigmoid'))\n",
    "model.summary()"
   ]
  },
  {
   "cell_type": "code",
   "execution_count": null,
   "metadata": {
    "id": "1J8_SeI6GOR6"
   },
   "outputs": [],
   "source": [
    "# Compile the model\n",
    "model.compile(optimizer='adam',\n",
    "              loss='binary_crossentropy',\n",
    "              metrics=['accuracy', precision_m, recall_m])"
   ]
  },
  {
   "cell_type": "code",
   "execution_count": null,
   "metadata": {
    "colab": {
     "base_uri": "https://localhost:8080/"
    },
    "id": "cW1WcDJeGVla",
    "outputId": "d36d62b0-9b7e-42d9-8932-c718a25a078b"
   },
   "outputs": [
    {
     "name": "stdout",
     "output_type": "stream",
     "text": [
      "Epoch 1/5\n",
      "26190/26190 [==============================] - 2874s 110ms/step - loss: 0.1452 - accuracy: 0.9366 - precision_m: 0.9203 - recall_m: 0.9181 - val_loss: 0.0811 - val_accuracy: 0.9635 - val_precision_m: 0.9555 - val_recall_m: 0.9580\n",
      "Epoch 2/5\n",
      "26190/26190 [==============================] - 2865s 109ms/step - loss: 0.0698 - accuracy: 0.9697 - precision_m: 0.9641 - recall_m: 0.9645 - val_loss: 0.0847 - val_accuracy: 0.9629 - val_precision_m: 0.9683 - val_recall_m: 0.9427\n",
      "Epoch 3/5\n",
      "26190/26190 [==============================] - 2829s 108ms/step - loss: 0.0545 - accuracy: 0.9771 - precision_m: 0.9730 - recall_m: 0.9729 - val_loss: 0.0846 - val_accuracy: 0.9636 - val_precision_m: 0.9572 - val_recall_m: 0.9566\n",
      "Epoch 4/5\n",
      "26190/26190 [==============================] - 2823s 108ms/step - loss: 0.0431 - accuracy: 0.9822 - precision_m: 0.9792 - recall_m: 0.9786 - val_loss: 0.0934 - val_accuracy: 0.9617 - val_precision_m: 0.9434 - val_recall_m: 0.9673\n",
      "Epoch 5/5\n",
      "26190/26190 [==============================] - 2850s 109ms/step - loss: 0.0350 - accuracy: 0.9859 - precision_m: 0.9836 - recall_m: 0.9832 - val_loss: 0.0973 - val_accuracy: 0.9605 - val_precision_m: 0.9509 - val_recall_m: 0.9554\n"
     ]
    }
   ],
   "source": [
    "# Fit the RNN model\n",
    "history = model.fit(X_train_seq_padded, y_train, \n",
    "                    batch_size=32, epochs=5,\n",
    "                    validation_data=(X_test_seq_padded, y_test))"
   ]
  },
  {
   "cell_type": "code",
   "execution_count": null,
   "metadata": {
    "colab": {
     "base_uri": "https://localhost:8080/",
     "height": 413
    },
    "id": "ES3-ZSJiGkdh",
    "outputId": "3a921700-604f-4208-86e3-6eb40c326780"
   },
   "outputs": [
    {
     "data": {
      "image/png": "[encoded data removed]",
      "text/plain": [
       "<Figure size 1440x432 with 3 Axes>"
      ]
     },
     "metadata": {
      "needs_background": "light",
      "tags": []
     },
     "output_type": "display_data"
    }
   ],
   "source": [
    "# Plot the evaluation metrics by each epoch for the model to see if we are over or underfitting\n",
    "fig, axs = plt.subplots(1, 3, figsize=(20, 6), sharey=True)\n",
    "m = ['accuracy', 'precision_m', 'recall_m']\n",
    "for i in m:\n",
    "    acc = history.history[i]\n",
    "    val_acc = history.history[f'val_{i}']\n",
    "    epochs = range(1, len(acc) + 1)\n",
    "\n",
    "    axs[m.index(i)].plot(epochs, acc, label='Training score')\n",
    "    axs[m.index(i)].plot(epochs, val_acc, label='Validation score')\n",
    "    axs[m.index(i)].set_title(f'{i.title()}')\n",
    "    axs[m.index(i)].legend()\n",
    "\n",
    "fig.text(0.5, 0.05, 'Epoch', va='center', ha='center', fontsize=16)\n",
    "fig.text(0.1, 0.5, 'Score', va='center', ha='center', rotation='vertical', fontsize=16)\n",
    "fig.subplots_adjust(wspace=0.02)\n"
   ]
  },
  {
   "cell_type": "code",
   "execution_count": null,
   "metadata": {
    "colab": {
     "base_uri": "https://localhost:8080/"
    },
    "id": "P1UuXOnU1yZr",
    "outputId": "6835baef-daed-48fa-e2f7-d6490b03d109"
   },
   "outputs": [
    {
     "name": "stdout",
     "output_type": "stream",
     "text": [
      "The model's metrics:\n",
      "           ['loss', 'accuracy', 'precision_m', 'recall_m']\n",
      "Train set: [0.026314986869692802, 0.9899984002113342, 0.9874837398529053, 0.9889148473739624]\n",
      "Test set: [0.09727223962545395, 0.9604805111885071, 0.950878381729126, 0.9553683400154114]\n"
     ]
    }
   ],
   "source": [
    "# train_acc = model.evaluate(X_train_seq_padded, y_train, verbose=0)\n",
    "# test_acc = model.evaluate(X_test_seq_padded, y_test, verbose=0)\n",
    "print(\"The model's metrics:\")\n",
    "print('          ', model.metrics_names)\n",
    "print(f'Train set: {train_acc}')\n",
    "print(f'Test set: {test_acc}')"
   ]
  },
  {
   "cell_type": "code",
   "execution_count": null,
   "metadata": {
    "colab": {
     "base_uri": "https://localhost:8080/"
    },
    "id": "oKWOLKF96ef3",
    "outputId": "984deda2-560b-4f99-e368-de66611dd498"
   },
   "outputs": [
    {
     "name": "stdout",
     "output_type": "stream",
     "text": [
      "Train accuracy:  0.9900\n",
      "Test accuracy:   0.9605\n"
     ]
    }
   ],
   "source": [
    "from sklearn.metrics import accuracy_score\n",
    "from sklearn.metrics import confusion_matrix\n",
    "import itertools\n",
    "\n",
    "predict_train = np.round(model.predict(X_train_seq_padded)).astype(int)\n",
    "predict_test = np.round(model.predict(X_test_seq_padded)).astype(int)\n",
    "print(f'Train accuracy: {accuracy_score(y_train, predict_train): .4f}')\n",
    "print(f'Test accuracy:  {accuracy_score(y_test, predict_test): .4f}')\n",
    "\n"
   ]
  },
  {
   "cell_type": "code",
   "execution_count": null,
   "metadata": {
    "colab": {
     "base_uri": "https://localhost:8080/",
     "height": 362
    },
    "id": "VKakHlS_79OL",
    "outputId": "7cd97450-7f67-43a5-9916-a25d70623061"
   },
   "outputs": [
    {
     "name": "stdout",
     "output_type": "stream",
     "text": [
      "Confusion matrix, without normalization\n",
      "[[116889   4339]\n",
      " [  3941  84348]]\n"
     ]
    },
    {
     "data": {
      "image/png": "[encoded data removed]",
      "text/plain": [
       "<Figure size 432x288 with 2 Axes>"
      ]
     },
     "metadata": {
      "needs_background": "light",
      "tags": []
     },
     "output_type": "display_data"
    }
   ],
   "source": [
    "def plot_confusion_matrix(cm, classes, normalize=False, title='Confusion matrix', cmap=plt.cm.Blues):\n",
    "    \"\"\"\n",
    "    This function prints and plots the confusion matrix.\n",
    "    Normalization can be applied by setting `normalize=True`.\n",
    "    \"\"\"\n",
    "    if normalize:\n",
    "        cm = cm.astype('float') / cm.sum(axis=1)[:, np.newaxis]\n",
    "        print(\"Normalized confusion matrix\")\n",
    "    else:\n",
    "        print('Confusion matrix, without normalization')\n",
    "    print(cm)\n",
    "    plt.imshow(cm, interpolation='nearest', cmap=cmap)\n",
    "    plt.title(title)\n",
    "    plt.colorbar()\n",
    "    tick_marks = np.arange(len(classes))\n",
    "    plt.xticks(tick_marks, classes, rotation=45)\n",
    "    plt.yticks(tick_marks, classes)\n",
    "    fmt = '.2f' if normalize else 'd'\n",
    "    thresh = cm.max() / 2.\n",
    "    for i, j in itertools.product(range(cm.shape[0]), range(cm.shape[1])):\n",
    "        plt.text(j, i, format(cm[i, j], fmt),\n",
    "                 horizontalalignment=\"center\",\n",
    "                 color=\"white\" if cm[i, j] > thresh else \"black\")\n",
    "    plt.tight_layout()\n",
    "    plt.ylabel('True label')\n",
    "    plt.xlabel('Predicted label')\n",
    "\n",
    "cnf_matrix = confusion_matrix(y_test, predict_test)\n",
    "\n",
    "plt.figure()\n",
    "plot_confusion_matrix(cnf_matrix,\n",
    "                      classes=[0,1],\n",
    "                      title='Confusion matrix for RNN')"
   ]
  },
  {
   "cell_type": "markdown",
   "metadata": {
    "id": "EeYY4sZVytGH"
   },
   "source": [
    "### Save the model to google drive"
   ]
  },
  {
   "cell_type": "code",
   "execution_count": null,
   "metadata": {
    "colab": {
     "base_uri": "https://localhost:8080/",
     "height": 52
    },
    "id": "4JdpNKVYAwyo",
    "outputId": "10a854b1-7b52-44ad-e5b4-ac66b3787355"
   },
   "outputs": [
    {
     "name": "stdout",
     "output_type": "stream",
     "text": [
      "Saving model to: /content/drive/My Drive/colabdata/save_models/20210330-rnn.h5...\n"
     ]
    },
    {
     "data": {
      "application/vnd.google.colaboratory.intrinsic+json": {
       "type": "string"
      },
      "text/plain": [
       "'/content/drive/My Drive/colabdata/save_models/20210330-rnn.h5'"
      ]
     },
     "execution_count": 19,
     "metadata": {
      "tags": []
     },
     "output_type": "execute_result"
    }
   ],
   "source": [
    "import os\n",
    "import datetime\n",
    "# Create a function to save a model\n",
    "def save_model(model, suffix=None):\n",
    "  \"\"\"\n",
    "  Saves a given model in a models directory and appends a suffix (str)\n",
    "  for clarity and reuse.\n",
    "  \"\"\"\n",
    "  \n",
    "  modeldir = os.path.join('/content/drive/My Drive/colabdata/save_models/',\n",
    "                          datetime.datetime.now().strftime('%Y%m%d'))\n",
    "  model_path = modeldir + \"-\" + suffix + \".h5\" # save format of model\n",
    "  print(f'Saving model to: {model_path}...')\n",
    "  model.save(model_path)\n",
    "  return model_path\n",
    "\n",
    "  \n",
    "save_model(model, suffix='rnn')"
   ]
  },
  {
   "cell_type": "code",
   "execution_count": null,
   "metadata": {
    "colab": {
     "base_uri": "https://localhost:8080/",
     "height": 52
    },
    "id": "5NdfWHq7AJKN",
    "outputId": "cd87e25b-ab3d-4e2e-baa6-73dfa0a9d73d"
   },
   "outputs": [
    {
     "name": "stdout",
     "output_type": "stream",
     "text": [
      "Saving model to: /content/drive/My Drive/colabdata/save_models/20210330-rnn_joblib.h5...\n"
     ]
    },
    {
     "data": {
      "application/vnd.google.colaboratory.intrinsic+json": {
       "type": "string"
      },
      "text/plain": [
       "'/content/drive/My Drive/colabdata/save_models/20210330-rnn_joblib.h5'"
      ]
     },
     "execution_count": 32,
     "metadata": {
      "tags": []
     },
     "output_type": "execute_result"
    }
   ],
   "source": [
    "import os\n",
    "import datetime\n",
    "\n",
    "\n",
    "# Create a function to save a model\n",
    "def save_model_joblib(model, suffix=None):\n",
    "  \"\"\"\n",
    "  Saves a given model in a models directory and appends a suffix (str)\n",
    "  for clarity and reuse.\n",
    "  \"\"\"\n",
    "  import joblib\n",
    "  modeldir = os.path.join('/content/drive/My Drive/colabdata/save_models/',\n",
    "                          datetime.datetime.now().strftime('%Y%m%d'))\n",
    "  model_path = modeldir + \"-\" + suffix + \".h5\" # save format of model\n",
    "  print(f'Saving model to: {model_path}...')\n",
    "  joblib.dump(model, model_path)\n",
    "  return model_path\n",
    "\n",
    "  \n",
    "save_model_joblib(tokenizer, suffix='rnn_joblib')"
   ]
  },
  {
   "cell_type": "code",
   "execution_count": null,
   "metadata": {
    "id": "UCVqu9CZAtzq"
   },
   "outputs": [],
   "source": []
  }
 ],
 "metadata": {
  "colab": {
   "name": "Tweet_RNN_colab.ipynb",
   "provenance": []
  },
  "kernelspec": {
   "display_name": "Python 3",
   "language": "python",
   "name": "python3"
  },
  "language_info": {
   "codemirror_mode": {
    "name": "ipython",
    "version": 3
   },
   "file_extension": ".py",
   "mimetype": "text/x-python",
   "name": "python",
   "nbconvert_exporter": "python",
   "pygments_lexer": "ipython3",
   "version": "3.8.5"
  }
 },
 "nbformat": 4,
 "nbformat_minor": 1
}
